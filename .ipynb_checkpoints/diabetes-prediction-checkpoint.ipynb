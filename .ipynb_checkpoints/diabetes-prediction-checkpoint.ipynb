{
 "cells": [
  {
   "cell_type": "markdown",
   "metadata": {},
   "source": [
    "# Diabetes prediction using synthesized health records\n",
    "\n",
    "This notebook explores how to train a machine learning model to predict type 2 diabetes using synthesized patient health records.  The use of synthesized data allows us to learn about building a model without any concern about the privacy issues surrounding the use of real patient health records.\n",
    "\n",
    "## Prerequisites\n",
    "\n",
    "This project is part of a series of code patterns pertaining to a fictional health care company called Example Health.  This company stores electronic health records in a database on a z/OS server.  Before running the notebook, the synthesized health records must be created and loaded into this database.  Another project, https://github.com/IBM/example-health-synthea, provides the steps for doing this.  The records are created using a tool called Synthea (https://github.com/synthetichealth/synthea), transformed and loaded into the database."
   ]
  },
  {
   "cell_type": "markdown",
   "metadata": {},
   "source": [
    "## Load and prepare the data"
   ]
  },
  {
   "cell_type": "markdown",
   "metadata": {},
   "source": [
    "### Set up the information needed for a JDBC connection to your database below\n",
    "The database must be set up by following the instructions in https://github.com/IBM/example-health-synthea."
   ]
  },
  {
   "cell_type": "code",
   "execution_count": 1,
   "metadata": {},
   "outputs": [],
   "source": [
    "credentials_1 = {\n",
    "  'host':'xxx.yyy.com',\n",
    "  'port':'nnnn',\n",
    "  'username':'user',\n",
    "  'password':'password',\n",
    "  'database':'location',\n",
    "  'schema':'SMHEALTH'\n",
    "}"
   ]
  },
  {
   "cell_type": "markdown",
   "metadata": {},
   "source": [
    "### Define a function to load data from a database table into a Spark dataframe\n",
    "\n",
    "The partitionColumn, lowerBound, upperBound, and numPartitions options are used to load the data more quickly\n",
    "using multiple JDBC connections.  The data is partitioned by patient id.  It is assumed that there are approximately\n",
    "5000 patients in the database.  If there are more or less patients, adjust the upperBound value appropriately."
   ]
  },
  {
   "cell_type": "code",
   "execution_count": 2,
   "metadata": {},
   "outputs": [],
   "source": [
    "def load_data_from_database(table_name):\n",
    "    return (\n",
    "        spark.read.format(\"jdbc\").options(\n",
    "            driver = \"com.ibm.db2.jcc.DB2Driver\",\n",
    "            url = \"jdbc:db2://\" + credentials_1[\"host\"] + \":\" + credentials_1[\"port\"] + \"/\" + credentials_1[\"database\"],\n",
    "            user = credentials_1[\"username\"], \n",
    "            password = credentials_1[\"password\"], \n",
    "            dbtable = credentials_1[\"schema\"] + \".\" + table_name,\n",
    "            partitionColumn = \"patientid\",\n",
    "            lowerBound = 1,\n",
    "            upperBound = 5000,\n",
    "            numPartitions = 10\n",
    "        ).load()\n",
    "    )"
   ]
  },
  {
   "cell_type": "markdown",
   "metadata": {},
   "source": [
    "### Read patient observations from the database\n",
    "\n",
    "The observations include things like blood pressure and cholesterol readings which are potential features for our model."
   ]
  },
  {
   "cell_type": "code",
   "execution_count": 3,
   "metadata": {},
   "outputs": [
    {
     "ename": "NameError",
     "evalue": "name 'spark' is not defined",
     "output_type": "error",
     "traceback": [
      "\u001b[0;31m---------------------------------------------------------------------------\u001b[0m",
      "\u001b[0;31mNameError\u001b[0m                                 Traceback (most recent call last)",
      "\u001b[0;32m<ipython-input-3-7b8df32c6deb>\u001b[0m in \u001b[0;36m<module>\u001b[0;34m()\u001b[0m\n\u001b[0;32m----> 1\u001b[0;31m \u001b[0mobservations_df\u001b[0m \u001b[0;34m=\u001b[0m \u001b[0mload_data_from_database\u001b[0m\u001b[0;34m(\u001b[0m\u001b[0;34m\"OBSERVATIONS\"\u001b[0m\u001b[0;34m)\u001b[0m\u001b[0;34m\u001b[0m\u001b[0m\n\u001b[0m\u001b[1;32m      2\u001b[0m \u001b[0;34m\u001b[0m\u001b[0m\n\u001b[1;32m      3\u001b[0m \u001b[0mobservations_df\u001b[0m\u001b[0;34m.\u001b[0m\u001b[0mshow\u001b[0m\u001b[0;34m(\u001b[0m\u001b[0;36m5\u001b[0m\u001b[0;34m)\u001b[0m\u001b[0;34m\u001b[0m\u001b[0m\n",
      "\u001b[0;32m<ipython-input-2-e3361e5d6afd>\u001b[0m in \u001b[0;36mload_data_from_database\u001b[0;34m(table_name)\u001b[0m\n\u001b[1;32m      1\u001b[0m \u001b[0;32mdef\u001b[0m \u001b[0mload_data_from_database\u001b[0m\u001b[0;34m(\u001b[0m\u001b[0mtable_name\u001b[0m\u001b[0;34m)\u001b[0m\u001b[0;34m:\u001b[0m\u001b[0;34m\u001b[0m\u001b[0m\n\u001b[1;32m      2\u001b[0m     return (\n\u001b[0;32m----> 3\u001b[0;31m         spark.read.format(\"jdbc\").options(\n\u001b[0m\u001b[1;32m      4\u001b[0m             \u001b[0mdriver\u001b[0m \u001b[0;34m=\u001b[0m \u001b[0;34m\"com.ibm.db2.jcc.DB2Driver\"\u001b[0m\u001b[0;34m,\u001b[0m\u001b[0;34m\u001b[0m\u001b[0m\n\u001b[1;32m      5\u001b[0m             \u001b[0murl\u001b[0m \u001b[0;34m=\u001b[0m \u001b[0;34m\"jdbc:db2://\"\u001b[0m \u001b[0;34m+\u001b[0m \u001b[0mcredentials_1\u001b[0m\u001b[0;34m[\u001b[0m\u001b[0;34m\"host\"\u001b[0m\u001b[0;34m]\u001b[0m \u001b[0;34m+\u001b[0m \u001b[0;34m\":\"\u001b[0m \u001b[0;34m+\u001b[0m \u001b[0mcredentials_1\u001b[0m\u001b[0;34m[\u001b[0m\u001b[0;34m\"port\"\u001b[0m\u001b[0;34m]\u001b[0m \u001b[0;34m+\u001b[0m \u001b[0;34m\"/\"\u001b[0m \u001b[0;34m+\u001b[0m \u001b[0mcredentials_1\u001b[0m\u001b[0;34m[\u001b[0m\u001b[0;34m\"database\"\u001b[0m\u001b[0;34m]\u001b[0m\u001b[0;34m,\u001b[0m\u001b[0;34m\u001b[0m\u001b[0m\n",
      "\u001b[0;31mNameError\u001b[0m: name 'spark' is not defined"
     ]
    }
   ],
   "source": [
    "observations_df = load_data_from_database(\"OBSERVATIONS\")\n",
    "\n",
    "observations_df.show(5)"
   ]
  },
  {
   "cell_type": "markdown",
   "metadata": {},
   "source": [
    "### The observations table has a generalized format with a separate row per observation\n",
    "\n",
    "Let's collect the observations that may be of interest in making a diabetes prediction.\n",
    "First, select systolic blood pressure readings from the observations.  These have code 8480-6."
   ]
  },
  {
   "cell_type": "code",
   "execution_count": null,
   "metadata": {},
   "outputs": [],
   "source": [
    "from pyspark.sql.functions import col\n",
    "\n",
    "systolic_observations_df = (\n",
    "    observations_df.select(\"patientid\", \"dateofobservation\", \"numericvalue\")\n",
    "                   .withColumnRenamed(\"numericvalue\", \"systolic\")\n",
    "                   .filter((col(\"code\") == \"8480-6\"))\n",
    "  )\n",
    "\n",
    "\n",
    "systolic_observations_df.show(5)"
   ]
  },
  {
   "cell_type": "markdown",
   "metadata": {},
   "source": [
    "### Select other observations of potential interest\n",
    "\n",
    "* Select diastolic blood pressure readings (code 8462-4).\n",
    "* Select HDL cholesterol readings (code 2085-9).\n",
    "* Select LDL cholesterol readings (code 18262-6).\n",
    "* Select BMI (body mass index) readings (code 39156-5)."
   ]
  },
  {
   "cell_type": "code",
   "execution_count": null,
   "metadata": {},
   "outputs": [],
   "source": [
    "diastolic_observations_df = (\n",
    "    observations_df.select(\"patientid\", \"dateofobservation\", \"numericvalue\")\n",
    "                   .withColumnRenamed('numericvalue', 'diastolic')\n",
    "                   .filter((col(\"code\") == \"8462-4\"))\n",
    "    )\n",
    "\n",
    "hdl_observations_df = (\n",
    "    observations_df.select(\"patientid\", \"dateofobservation\", \"numericvalue\")\n",
    "                   .withColumnRenamed('numericvalue', 'hdl')\n",
    "                   .filter((col(\"code\") == \"2085-9\"))\n",
    "    )\n",
    "\n",
    "ldl_observations_df = (\n",
    "    observations_df.select(\"patientid\", \"dateofobservation\", \"numericvalue\")\n",
    "                   .withColumnRenamed('numericvalue', 'ldl')\n",
    "                   .filter((col(\"code\") == \"18262-6\"))\n",
    "    )\n",
    "\n",
    "bmi_observations_df = (\n",
    "    observations_df.select(\"patientid\", \"dateofobservation\", \"numericvalue\")\n",
    "                   .withColumnRenamed('numericvalue', 'bmi')\n",
    "                   .filter((col(\"code\") == \"39156-5\"))\n",
    "    )"
   ]
  },
  {
   "cell_type": "markdown",
   "metadata": {},
   "source": [
    "### Join the observations for each patient by date into one dataframe"
   ]
  },
  {
   "cell_type": "code",
   "execution_count": null,
   "metadata": {},
   "outputs": [],
   "source": [
    "merged_observations_df = (\n",
    "    systolic_observations_df.join(diastolic_observations_df, [\"patientid\", \"dateofobservation\"])\n",
    "                            .join(hdl_observations_df, [\"patientid\", \"dateofobservation\"])\n",
    "                            .join(ldl_observations_df, [\"patientid\", \"dateofobservation\"])\n",
    "                            .join(bmi_observations_df, [\"patientid\", \"dateofobservation\"])\n",
    ")\n",
    "\n",
    "merged_observations_df.show(5)"
   ]
  },
  {
   "cell_type": "markdown",
   "metadata": {},
   "source": [
    "### Another possible feature is the patient's age at the time of observation\n",
    "\n",
    "Load the patients' birth dates from the database into a dataframe."
   ]
  },
  {
   "cell_type": "code",
   "execution_count": null,
   "metadata": {},
   "outputs": [],
   "source": [
    "patients_df = load_data_from_database(\"PATIENT\").select(\"patientid\", \"dateofbirth\")\n",
    "\n",
    "patients_df.show(5)"
   ]
  },
  {
   "cell_type": "markdown",
   "metadata": {},
   "source": [
    "Add a column containing the patient's age to the merged observations."
   ]
  },
  {
   "cell_type": "code",
   "execution_count": null,
   "metadata": {},
   "outputs": [],
   "source": [
    "from pyspark.sql.functions import datediff\n",
    "\n",
    "merged_observations_with_age_df = (\n",
    "  merged_observations_df.join(patients_df, \"patientid\")\n",
    "                        .withColumn(\"age\", datediff(col(\"dateofobservation\"), col(\"dateofbirth\"))/365)\n",
    "                        .drop(\"dateofbirth\")\n",
    "  )\n",
    "\n",
    "merged_observations_with_age_df.show(5)"
   ]
  },
  {
   "cell_type": "markdown",
   "metadata": {},
   "source": [
    "### Find the patients that have been diagnosed with type 2 diabetes\n",
    "\n",
    "The conditions table contains the conditions that patients have and the date they were diagnosed.\n",
    "Load the patient conditions table and select the patients that have been diagnosed with type 2 diabetes.\n",
    "Keep the date they were diagnosed (\"start\" column)."
   ]
  },
  {
   "cell_type": "code",
   "execution_count": null,
   "metadata": {},
   "outputs": [],
   "source": [
    "diabetics_df = (\n",
    "    load_data_from_database(\"CONDITIONS\")\n",
    "    .select(\"patientid\", \"start\")\n",
    "    .filter(col(\"description\") == \"Diabetes\")\n",
    ")\n",
    "\n",
    "diabetics_df.show(5)"
   ]
  },
  {
   "cell_type": "markdown",
   "metadata": {},
   "source": [
    "### Create a \"diabetic\" column which is the \"label\" for the model to predict\n",
    "\n",
    "Join the merged observations with the diabetic patients.\n",
    "This is a left join so that we keep all observations for both diabetic and non-diabetic patients.\n",
    "Create a new column with a binary value, 1=diabetic, 0=non-diabetic.\n",
    "This will be the label for the model (the value it is trying to predict)."
   ]
  },
  {
   "cell_type": "code",
   "execution_count": null,
   "metadata": {},
   "outputs": [],
   "source": [
    "from pyspark.sql.functions import when\n",
    "\n",
    "observations_and_condition_df = (\n",
    "    merged_observations_with_age_df.join(diabetics_df, \"patientid\", \"left_outer\")\n",
    "    .withColumn(\"diabetic\", when(col(\"start\").isNotNull(), 1).otherwise(0))\n",
    ")\n",
    "\n",
    "observations_and_condition_df.show(5)"
   ]
  },
  {
   "cell_type": "markdown",
   "metadata": {},
   "source": [
    "### Filter the observations for diabetics to remove those taken before diagnosis\n",
    "\n",
    "This is driven by the way that the diabetes simulation works in Synthea.  The impact of the condition (diabetes) is not reflected in the observations until the patient is diagnosed with the condition in a wellness visit.  Prior to that the patient's observations won't be any different from a non-diabetic patient.  Therefore we want only the observations at the time the patients were diabetic."
   ]
  },
  {
   "cell_type": "code",
   "execution_count": null,
   "metadata": {},
   "outputs": [],
   "source": [
    "observations_and_condition_df = (\n",
    "    observations_and_condition_df.filter((col(\"diabetic\") == 0) | ((col(\"dateofobservation\") >= col(\"start\"))))\n",
    ")"
   ]
  },
  {
   "cell_type": "markdown",
   "metadata": {},
   "source": [
    "### Reduce the observations to a single observation per patient (the earliest available observation)"
   ]
  },
  {
   "cell_type": "code",
   "execution_count": null,
   "metadata": {},
   "outputs": [],
   "source": [
    "from pyspark.sql.window import Window\n",
    "from pyspark.sql.functions import row_number\n",
    "\n",
    "w = Window.partitionBy(observations_and_condition_df[\"patientid\"]).orderBy(merged_observations_df[\"dateofobservation\"].asc())\n",
    "\n",
    "first_observation_df = observations_and_condition_df.withColumn(\"rn\", row_number().over(w)).where(col(\"rn\") == 1).drop(\"rn\")"
   ]
  },
  {
   "cell_type": "markdown",
   "metadata": {},
   "source": [
    "## Visualize data\n",
    "\n",
    "At this point we have collected some observations which might be relevant to making a diabetes prediction.  The next step is to look for relationships between those observations and having diabetes.  There are many tools that help visualize data to look for relationships.  One of the easiest ones to use is called Pixiedust (https://github.com/pixiedust/pixiedust).\n",
    "\n",
    "Install the pixiedust visualization tool."
   ]
  },
  {
   "cell_type": "code",
   "execution_count": null,
   "metadata": {},
   "outputs": [],
   "source": [
    "# !pip install --upgrade pixiedust"
   ]
  },
  {
   "cell_type": "markdown",
   "metadata": {},
   "source": [
    "### Use Pixiedust to visualize whether observations correlate with diabetes\n",
    "\n",
    "The PixieDust interactive widget appears when you run this cell.\n",
    "* Click the chart button and choose Scatter Plot.\n",
    "* Click the chart options button.  Drag \"ldl\" into the Keys box and drag \"hdl\" into the Values box.\n",
    "Set the # of Rows to Display to 5000.  Click OK to close the chart options.\n",
    "* Select bokeh from the Renderer dropdown menu.\n",
    "* Select diabetic from the Color dropdown menu.\n",
    "\n",
    "The scatter plot chart appears.\n",
    "\n",
    "Click Options and try replacing \"ldl\" and \"hdl\" with other attributes."
   ]
  },
  {
   "cell_type": "code",
   "execution_count": null,
   "metadata": {
    "pixiedust": {
     "displayParams": {
      "chartsize": "100",
      "color": "diabetic",
      "handlerId": "scatterPlot",
      "keyFields": "ldl",
      "rendererId": "bokeh",
      "rowCount": "1000",
      "valueFields": "hdl"
     }
    }
   },
   "outputs": [],
   "source": [
    "import pixiedust\n",
    "\n",
    "display(first_observation_df)"
   ]
  },
  {
   "cell_type": "markdown",
   "metadata": {},
   "source": [
    "## Build and train the model\n",
    "\n",
    "The visualization of the data showed that the strongest predictors of diabetes are the cholesterol observations.  This is an artifact of the diabetes simulation used to create the synthesized data.  The simulation uses a distinct range of HDL readings for diabetic vs. non-diabetic patients.\n",
    "\n",
    "The simulation increases the chance of high blood pressure (hypertension) for diabetics but the non-diabetic patients also can have high blood pressure.  Therefore the correlation of high blood pressure to diabetes isn't very strong.\n",
    "\n",
    "The simulation does not change the weight of any diabetic patients so BMI has no correlation.\n",
    "\n",
    "Let's continue using HDL and systolic blood pressure as the features for the model.  In reality more features would be needed to build a usable model.\n",
    "\n",
    "Create a pipeline that assembles the feature columns and runs a logistic regression algorithm.  Then use the observation data to train the model."
   ]
  },
  {
   "cell_type": "code",
   "execution_count": null,
   "metadata": {},
   "outputs": [],
   "source": [
    "from pyspark.ml.feature import VectorAssembler\n",
    "from pyspark.ml.classification import LogisticRegression\n",
    "from pyspark.ml import Pipeline\n",
    "\n",
    "vectorAssembler_features = VectorAssembler(inputCols=[\"hdl\", \"systolic\"], outputCol=\"features\")\n",
    "\n",
    "lr = LogisticRegression(featuresCol = 'features', labelCol = 'diabetic', maxIter=10)\n",
    "\n",
    "pipeline = Pipeline(stages=[vectorAssembler_features, lr])"
   ]
  },
  {
   "cell_type": "markdown",
   "metadata": {},
   "source": [
    "### Split the observation data into two portions\n",
    "\n",
    "The larger portion (80% of the data) is used to train the model.\n",
    "The smaller portion (20% of the data) is used to test the model."
   ]
  },
  {
   "cell_type": "code",
   "execution_count": null,
   "metadata": {},
   "outputs": [],
   "source": [
    "split_data = first_observation_df.randomSplit([0.8, 0.2], 24)\n",
    "train_data = split_data[0]\n",
    "test_data = split_data[1]"
   ]
  },
  {
   "cell_type": "markdown",
   "metadata": {},
   "source": [
    "### Train the model"
   ]
  },
  {
   "cell_type": "code",
   "execution_count": null,
   "metadata": {},
   "outputs": [],
   "source": [
    "model = pipeline.fit(train_data)"
   ]
  },
  {
   "cell_type": "markdown",
   "metadata": {},
   "source": [
    "## Evaluate the model\n",
    "\n",
    "One way to evaluate the model is to plot a precision/recall curve.\n",
    "\n",
    "Precision measures the percentage of the predicted true outcomes that are actually true.\n",
    "\n",
    "Recall measures the percentage of the actual true conditions that are predicted as true.\n",
    "\n",
    "Ideally we want both precision and recall to be 100%.\n",
    "We want all of the diabetes predictions to actually have diabetes (precision = 1.0).\n",
    "We want all of the actual diabetics to be predicted to be diabetic (recall = 1.0).\n",
    "\n",
    "The model computes the probability of a true condition and then compares that to a threshold\n",
    "(by default 0.5) to make a final true of false determination.  The precision/recall curve plots\n",
    "precision and recall at various threhold values."
   ]
  },
  {
   "cell_type": "code",
   "execution_count": null,
   "metadata": {},
   "outputs": [],
   "source": [
    "# Plot the model's precision/recall curve.\n",
    "\n",
    "%matplotlib inline\n",
    "import matplotlib.pyplot as plt\n",
    "\n",
    "trainingSummary = model.stages[-1].summary\n",
    "\n",
    "pr = trainingSummary.pr.toPandas()\n",
    "plt.plot(pr['recall'],pr['precision'])\n",
    "plt.ylabel('Precision')\n",
    "plt.xlabel('Recall')\n",
    "plt.show()"
   ]
  },
  {
   "cell_type": "markdown",
   "metadata": {},
   "source": [
    "Let's use the model to make predictions using the test data.  We'll leave the threshold for deciding between a true or false result at the default value of 0.5."
   ]
  },
  {
   "cell_type": "code",
   "execution_count": null,
   "metadata": {},
   "outputs": [],
   "source": [
    "predictions = model.transform(test_data)"
   ]
  },
  {
   "cell_type": "markdown",
   "metadata": {},
   "source": [
    "Compute recall and precision for the test predictions to see how well the model does."
   ]
  },
  {
   "cell_type": "code",
   "execution_count": null,
   "metadata": {},
   "outputs": [],
   "source": [
    "pred_and_label = predictions.select(\"prediction\", \"diabetic\").toPandas()\n",
    "\n",
    "tp = pred_and_label[(pred_and_label.prediction == 1) & (pred_and_label.diabetic == 1)].count().tolist()[1]\n",
    "fp = pred_and_label[(pred_and_label.prediction == 1) & (pred_and_label.diabetic == 0)].count().tolist()[1]\n",
    "fn = pred_and_label[(pred_and_label.prediction == 0) & (pred_and_label.diabetic == 1)].count().tolist()[1]\n",
    "\n",
    "print(\"True positives  = %s\" % tp)\n",
    "print(\"False positives = %s\" % fp)\n",
    "print(\"False negatives = %s\" % fn)\n",
    "\n",
    "print(\"Recall = %s\" % (tp / (tp + fn)))\n",
    "print(\"Precision = %s\" % (tp / (tp + fp)))"
   ]
  },
  {
   "cell_type": "markdown",
   "metadata": {},
   "source": [
    "## Publish and deploy the model\n",
    "\n",
    "In this section you will learn how to store the model in the Watson Machine Learning repository by using the repository client.\n",
    "\n",
    "First install the client library."
   ]
  },
  {
   "cell_type": "code",
   "execution_count": null,
   "metadata": {},
   "outputs": [],
   "source": [
    "!rm -rf $PIP_BUILD/watson-machine-learning-client\n",
    "!pip install watson-machine-learning-client --upgrade"
   ]
  },
  {
   "cell_type": "markdown",
   "metadata": {},
   "source": [
    "### Enter your Watson Machine Learning service instance credentials here\n",
    "They can be found in the Service Credentials tab of the Watson Machine Learning service instance that you created on IBM Cloud."
   ]
  },
  {
   "cell_type": "code",
   "execution_count": null,
   "metadata": {},
   "outputs": [],
   "source": [
    "wml_credentials={\n",
    "  \"url\": \"https://xxx.ibm.com\",\n",
    "  \"username\": \"xxxxxxxx-xxxx-xxxx-xxxx-xxxxxxxxxxxx\",\n",
    "  \"password\": \"xxxxxxxx-xxxx-xxxx-xxxx-xxxxxxxxxxxx\",\n",
    "  \"instance_id\": \"xxxxxxxx-xxxx-xxxx-xxxx-xxxxxxxxxxxx\"\n",
    "}"
   ]
  },
  {
   "cell_type": "markdown",
   "metadata": {},
   "source": [
    "### Publish the model to the repository using the client"
   ]
  },
  {
   "cell_type": "code",
   "execution_count": null,
   "metadata": {},
   "outputs": [],
   "source": [
    "from watson_machine_learning_client import WatsonMachineLearningAPIClient\n",
    "\n",
    "client = WatsonMachineLearningAPIClient(wml_credentials)\n",
    "\n",
    "model_props = {\n",
    "    client.repository.ModelMetaNames.NAME: \"diabetes-prediction-1\",\n",
    "}\n",
    "\n",
    "stored_model_details = client.repository.store_model(model, meta_props=model_props, training_data=train_data, pipeline=pipeline)\n",
    "\n",
    "model_uid            = client.repository.get_model_uid( stored_model_details )\n",
    "print( \"model_uid: \", model_uid )"
   ]
  },
  {
   "cell_type": "markdown",
   "metadata": {},
   "source": [
    "### Deploy the model as a web service"
   ]
  },
  {
   "cell_type": "code",
   "execution_count": null,
   "metadata": {},
   "outputs": [],
   "source": [
    "deployment_details = client.deployments.create(model_uid, 'diabetes-prediction-1 deployment')\n",
    "\n",
    "scoring_endpoint = client.deployments.get_scoring_url(deployment_details)\n",
    "print(scoring_endpoint)"
   ]
  },
  {
   "cell_type": "markdown",
   "metadata": {},
   "source": [
    "### Call the web service to make a prediction from some sample data"
   ]
  },
  {
   "cell_type": "code",
   "execution_count": null,
   "metadata": {},
   "outputs": [],
   "source": [
    "scoring_payload = {\n",
    "    \"fields\": [\"hdl\", \"systolic\"],\n",
    "    \"values\": [[45.0, 156.6]]\n",
    "}\n",
    "\n",
    "score = client.deployments.score(scoring_endpoint, scoring_payload)\n",
    "\n",
    "print(str(score))"
   ]
  },
  {
   "cell_type": "code",
   "execution_count": null,
   "metadata": {},
   "outputs": [],
   "source": []
  }
 ],
 "metadata": {
  "kernelspec": {
   "display_name": "Python 3",
   "language": "python",
   "name": "python3"
  },
  "language_info": {
   "codemirror_mode": {
    "name": "ipython",
    "version": 3
   },
   "file_extension": ".py",
   "mimetype": "text/x-python",
   "name": "python",
   "nbconvert_exporter": "python",
   "pygments_lexer": "ipython3",
   "version": "3.6.5"
  }
 },
 "nbformat": 4,
 "nbformat_minor": 1
}
